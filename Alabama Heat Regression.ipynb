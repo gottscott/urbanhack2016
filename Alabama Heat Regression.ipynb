{
 "cells": [
  {
   "cell_type": "code",
   "execution_count": 1,
   "metadata": {
    "collapsed": true
   },
   "outputs": [],
   "source": [
    "# import libraries\n",
    "# requires prior sign up for google earth engine: go to http://code.earthengine.google.com/\n",
    "# for Python Google Earth Engine install instructions, see https://developers.google.com/earth-engine/python_install\n",
    "import ee \n",
    "import datetime\n",
    "import pandas as pd\n",
    "ee.Initialize()"
   ]
  },
  {
   "cell_type": "code",
   "execution_count": null,
   "metadata": {
    "collapsed": false
   },
   "outputs": [],
   "source": []
  },
  {
   "cell_type": "code",
   "execution_count": 2,
   "metadata": {
    "collapsed": false
   },
   "outputs": [],
   "source": [
    "# get_data takes a startTime, endTime, and a location and returns emissivity, elevation, LST, NDVI, landcover\n",
    "# note: using this function with a single latlon is not super efficient as it calculates the whole scene and then extracts points \n",
    "def get_data(startTime,endTime,latlon):   \n",
    "\n",
    "    try:\n",
    "    #if(True):\n",
    "        ## Read in data from GEE\n",
    "        #Read Landsat 8 Image\n",
    "        L8_DN = ee.ImageCollection('LANDSAT/LC8_L1T').filterDate(startTime, endTime)  \n",
    "        # read in emissivity and correct units\n",
    "        emissivity = ee.Image('NASA/ASTER_GED/AG100_003').select('emissivity_band10').multiply(0.001) \n",
    "        # read in elevation \n",
    "        srtm = ee.Image('USGS/SRTMGL1_003')\n",
    "        # read in landcover info\n",
    "        impervious = ee.Image('USGS/NLCD/NLCD2011').select('impervious')\n",
    "        \n",
    "        ## Set up LST computation\n",
    "        # computes emissivity-corrected land surface temperature given Landsat8 band 10 (tir) and emissivity\n",
    "        # assumes tir, emissivity are google earth engine images\n",
    "        k1 = 774.8853 ; # constants for Landsat8 B10\n",
    "        k2 =  1321.0789 ; # constants for Landsat8 B10\n",
    "        dummyk1 = emissivity.multiply(0).add(1).multiply(k1) # make dummy variable same size/type as emissivity\n",
    "        dummyk2 = emissivity.multiply(0).add(1).multiply(k2) # make dummy variable same size/type as emissivity\n",
    "        \n",
    "        # initialize pandas datafrmae to store data \n",
    "        df_all = pd.DataFrame()\n",
    "        \n",
    "        for loc in latlon[0:95:3]:\n",
    "            try:\n",
    "                ## Select points\n",
    "                # subset point, sorting on cloud cover\n",
    "                point = {'type':'Point', 'coordinates':[loc[1],loc[0]]};\n",
    "                L8_DN_point = L8_DN.filterBounds(point)    \n",
    "                L8_DN_point = L8_DN_point.sort('CLOUD_COVER').first()  \n",
    "                \n",
    "                # select individual bands, assuming Landsat8\n",
    "                image = ee.Image(L8_DN_point)\n",
    "                tir = image.select(u'B10') # thermal infrared\n",
    "                red = image.select(u'B4') # infrared\n",
    "                nir = image.select(u'B5') # near infrared\n",
    "                \n",
    "                ## compute NDVI\n",
    "                # for more on NDVI, see https://en.wikipedia.org/wiki/Normalized_Difference_Vegetation_Index\n",
    "                ndvi = nir.subtract(red).divide(nir.add(red))\n",
    "                \n",
    "                # compute LST\n",
    "                # first convert band 10 Digital Number (DN) data to TOA spectral radiance\n",
    "                radiance = tir.multiply(3.3420E-04).add(.1)  # scale by gain and bias, band specific \n",
    "                L_lamda = radiance.divide(emissivity); # correct for emissivity\n",
    "                k1_over_L_lamda = dummyk1.divide(L_lamda) \n",
    "                denominator = k1_over_L_lamda.add(1).log(); \n",
    "                t = dummyk2.divide(denominator).subtract(273.15); # finally convert to degrees C \n",
    "    \n",
    "                image = ee.ImageCollection(image)\n",
    "                t = ee.ImageCollection(t)\n",
    "                ndvi = ee.ImageCollection(ndvi)\n",
    "                srtm = ee.ImageCollection(srtm)\n",
    "                impervious = ee.ImageCollection(impervious)\n",
    "    \n",
    "                #Get the given Lat,Lon,date\n",
    "                info = image.getRegion(point,500).getInfo()\n",
    "                df_image = pd.DataFrame(info[1:],columns=info[0])\n",
    "    \n",
    "                #Get the LST (B10)\n",
    "                info = t.getRegion(point,500).getInfo()\n",
    "                df_t = pd.DataFrame(info[1:],columns=info[0])\n",
    "    \n",
    "                #Get the NDVI\n",
    "                info = ndvi.getRegion(point,500).getInfo()\n",
    "                df_ndvi = pd.DataFrame(info[1:],columns=info[0])\n",
    "\n",
    "                #Get the SRTM\n",
    "                info = srtm.getRegion(point,500).getInfo()\n",
    "                df_srtm = pd.DataFrame(info[1:],columns=info[0])\n",
    "\n",
    "                #Get the impervious\n",
    "                info = impervious.getRegion(point,500).getInfo()\n",
    "                df_impervious = pd.DataFrame(info[1:],columns=info[0])\n",
    "                \n",
    "                # Put it all together\n",
    "                df = pd.DataFrame()\n",
    "                df = pd.concat([df,df_image[['longitude','latitude','time']]],axis=1)\n",
    "                df = pd.concat([df,df_t['emissivity_band10']],axis=1)\n",
    "                df = pd.concat([df,df_ndvi['B5']],axis=1)\n",
    "                df = pd.concat([df,df_srtm['elevation']],axis=1)\n",
    "                df = pd.concat([df,df_impervious['impervious']],axis=1)\n",
    "        \n",
    "                df.rename(index=str, columns={\"emissivity_band10\": \"LST\"},inplace=True)\n",
    "                df.rename(index=str, columns={\"B5\": \"NDVI\"},inplace=True)\n",
    "                df['time'] = df['time'].apply(lambda x:datetime.datetime.fromtimestamp(float(str(x)[:-3])))\n",
    "                df['latitude'] = loc[0]\n",
    "                df['longitude'] = loc[1]\n",
    "                \n",
    "                df_all = pd.concat([df_all,df])\n",
    "            except:\n",
    "                df_all = df_all.copy()\n",
    "            #print(shape(df_all))\n",
    "        return df_all\n",
    "    except:\n",
    "        print(\"Not Found or Error!\")\n",
    "        return pd.DataFrame"
   ]
  },
  {
   "cell_type": "code",
   "execution_count": null,
   "metadata": {
    "collapsed": false
   },
   "outputs": [],
   "source": []
  },
  {
   "cell_type": "code",
   "execution_count": 15,
   "metadata": {
    "collapsed": false
   },
   "outputs": [],
   "source": [
    "import datetime\n",
    "from matplotlib import dates\n",
    "import matplotlib.dates as mdates\n",
    "from pylab import *\n",
    "\n",
    "startTime = datetime.datetime(2015, 5, 1)\n",
    "endTime = datetime.datetime(2015, 10, 1)\n",
    "\n",
    "collection = ee.ImageCollection('LANDSAT/LC8_L1T').filterDate(startTime, endTime)\n",
    "point = {'type':'Point', 'coordinates':[-86.800468, 33.514624, ]};  # Birmingham,  [-86.800468, 33.514624, ]LA,  [ -117.2820,33.9802]\n",
    "info = collection.getRegion(point,500).getInfo()\n",
    "\n",
    "# extract the header column names\n",
    "header = info[0]\n",
    "# create a Numpy array of the data\n",
    "data = array(info[1:])\n",
    "# extract the time information\n",
    "iTime = header.index('time')\n",
    "# convert to Python datetime objects\n",
    "time_collection = [datetime.datetime.fromtimestamp(i/1000) for i in (data[0:,iTime].astype(int))]"
   ]
  },
  {
   "cell_type": "code",
   "execution_count": null,
   "metadata": {
    "collapsed": false
   },
   "outputs": [],
   "source": []
  },
  {
   "cell_type": "code",
   "execution_count": 143,
   "metadata": {
    "collapsed": false,
    "scrolled": true
   },
   "outputs": [],
   "source": []
  },
  {
   "cell_type": "code",
   "execution_count": null,
   "metadata": {
    "collapsed": false
   },
   "outputs": [],
   "source": []
  },
  {
   "cell_type": "code",
   "execution_count": 273,
   "metadata": {
    "collapsed": false,
    "scrolled": true
   },
   "outputs": [],
   "source": [
    "# Read in air temperature observation data\n",
    "# Data saved as data/ALmeandaily2015temp.csv\n",
    "frames = []\n",
    "air_data = pd.read_csv('data/ALmeandaily2015temp.csv').set_index('Date')\n",
    "air_data.columns = air_data.columns.astype(int)\n",
    "for station in locations.index: \n",
    "    df = pd.DataFrame()\n",
    "    #try: \n",
    "    stationdata = air_data[station]#ulmo.ncdc.ghcn_daily.get_data(station, as_dataframe=True)['TMAX']['2013-04-01':'2016-01-01']\n",
    "    df['temp'] = stationdata#*.1\n",
    "    df['lat'] = np.ones(stationdata.shape[0])*locations.loc[station]['location:Latitude']\n",
    "    df['lon'] = np.ones(stationdata.shape[0])*locations.loc[station]['location:Longitude']\n",
    "    df['id'] = station\n",
    "    df['Date'] = stationdata.index\n",
    "    frames.append(df)\n",
    "#pd.concat(frames).to_csv('data/ALmeandaily2015temp_latlon.csv')\n",
    "Tair_val = pd.concat(frames)"
   ]
  },
  {
   "cell_type": "code",
   "execution_count": 46,
   "metadata": {
    "collapsed": false,
    "scrolled": true
   },
   "outputs": [],
   "source": [
    "#Read list of metereological station and\n",
    "#Read the Temperature values from the Met stations\n",
    "#Tair_val = pd.read_csv('data/LAtmax.csv')\n",
    "#Tair_val = pd.read_csv('data/ALmeandaily2015temp_latlon.csv')\n",
    "#Tair_val.rename(index=str, columns={\"day\": \"time\"},inplace=True)\n",
    "#Tair_val.drop('ghcn_id',axis=1,inplace=True)\n",
    "locations = pd.read_csv('data/AL2015locations.csv').set_index('Unnamed: 0')\n",
    "lat = Tair_val['lat'].unique()\n",
    "lon = Tair_val['lon'].unique()\n",
    "latlon = zip(lat,lon)"
   ]
  },
  {
   "cell_type": "code",
   "execution_count": null,
   "metadata": {
    "collapsed": false,
    "scrolled": true
   },
   "outputs": [],
   "source": []
  },
  {
   "cell_type": "code",
   "execution_count": null,
   "metadata": {
    "collapsed": false
   },
   "outputs": [],
   "source": []
  },
  {
   "cell_type": "code",
   "execution_count": 342,
   "metadata": {
    "collapsed": false
   },
   "outputs": [
    {
     "name": "stdout",
     "output_type": "stream",
     "text": [
      "0\n",
      "32.8441619873\n",
      "1\n",
      "28.4355208874\n",
      "2\n",
      "25.2348511219\n",
      "3\n",
      "26.8324918747\n",
      "4\n",
      "22.3398549557\n"
     ]
    }
   ],
   "source": [
    "# loop over time to pull more satellite images and fill out dataframe \n",
    "# return df\n",
    "import time as time\n",
    "\n",
    "#Create the final Dataframe\n",
    "df = pd.DataFrame()\n",
    "counter=0\n",
    "\n",
    "for time_X in time_collection[0:120:4]:\n",
    "    tic = time.time()\n",
    "    print(counter)\n",
    "    startTime = time_X-datetime.timedelta(days=1)\n",
    "    endTime = time_X+datetime.timedelta(days=1)\n",
    "    df_temp = get_data(startTime,endTime,latlon)\n",
    "    try:\n",
    "        df = pd.concat([df,df_temp])\n",
    "    except:\n",
    "        df = df.copy()\n",
    "    counter += 1\n",
    "    \n",
    "    toc = time.time()\n",
    "    print(toc-tic)"
   ]
  },
  {
   "cell_type": "code",
   "execution_count": 343,
   "metadata": {
    "collapsed": false,
    "scrolled": true
   },
   "outputs": [],
   "source": [
    "#Do some field cleaning for joining the tables\n",
    "df['lon'] = df['longitude'].apply(lambda x:str(x)[0:8])\n",
    "df['lat'] = df['latitude'].apply(lambda x:str(x)[0:6])\n",
    "df['Date'] = df['time'].apply(lambda x:str(x.date()))\n",
    "sat_df = df[['LST', 'NDVI', 'elevation', 'impervious', 'lon', 'lat', 'Date']].set_index('Date', drop = False)\n",
    "\n",
    "Tair_val['lon'] = Tair_val['lon'].apply(lambda x:str(x)[0:8])\n",
    "Tair_val['lat'] = Tair_val['lat'].apply(lambda x:str(x)[0:6])\n",
    "#Tair_val['time'] = Tair_val['time'].apply(lambda x:str(x))"
   ]
  },
  {
   "cell_type": "code",
   "execution_count": 186,
   "metadata": {
    "collapsed": false
   },
   "outputs": [],
   "source": [
    "df_copy = df.copy() #Keep a copy of the df dataframe"
   ]
  },
  {
   "cell_type": "code",
   "execution_count": null,
   "metadata": {
    "collapsed": false
   },
   "outputs": [],
   "source": []
  },
  {
   "cell_type": "code",
   "execution_count": 283,
   "metadata": {
    "collapsed": false,
    "scrolled": true
   },
   "outputs": [],
   "source": [
    "# #Do some field cleaning for joining the tables\n",
    "# df['lon'] = df['lon'].apply(lambda x:str(x)[0:8])\n",
    "# df['lat'] = df['lat'].apply(lambda x:str(x)[0:6])\n",
    "# #df['Date'] = df['Date'].apply(lambda x:str(x.date()))\n",
    "\n",
    "# Tair_val['lon'] = Tair_val['lon'].apply(lambda x:str(x)[0:8])\n",
    "# Tair_val['lat'] = Tair_val['lat'].apply(lambda x:str(x)[0:6])\n",
    "# #Tair_val['time'] = Tair_val['time'].apply(lambda x:str(x))"
   ]
  },
  {
   "cell_type": "code",
   "execution_count": 354,
   "metadata": {
    "collapsed": false
   },
   "outputs": [],
   "source": [
    "#df = df_copy.rename(columns={'time': 'Date'}).set_index('Date', drop = False)"
   ]
  },
  {
   "cell_type": "code",
   "execution_count": 344,
   "metadata": {
    "collapsed": false,
    "scrolled": true
   },
   "outputs": [],
   "source": [
    "#Merge the two Tables\n",
    "satobsdf = pd.merge(sat_df, Tair_val.loc[sat_df.index].dropna().iloc[0:52], #Tair_val.loc[df['time']], \n",
    "         how='left', on=['Date', 'lat', 'lon', ]).dropna(axis=0,how='any') # drop any missing rows"
   ]
  },
  {
   "cell_type": "code",
   "execution_count": 352,
   "metadata": {
    "collapsed": false,
    "scrolled": true
   },
   "outputs": [
    {
     "data": {
      "text/html": [
       "<div>\n",
       "<table border=\"1\" class=\"dataframe\">\n",
       "  <thead>\n",
       "    <tr style=\"text-align: right;\">\n",
       "      <th></th>\n",
       "      <th>LST</th>\n",
       "      <th>NDVI</th>\n",
       "      <th>elevation</th>\n",
       "      <th>impervious</th>\n",
       "      <th>lon</th>\n",
       "      <th>lat</th>\n",
       "      <th>Date</th>\n",
       "      <th>temp</th>\n",
       "      <th>id</th>\n",
       "    </tr>\n",
       "  </thead>\n",
       "  <tbody>\n",
       "    <tr>\n",
       "      <th>8</th>\n",
       "      <td>35.721266</td>\n",
       "      <td>0.199694</td>\n",
       "      <td>178</td>\n",
       "      <td>82</td>\n",
       "      <td>-86.7943</td>\n",
       "      <td>33.566</td>\n",
       "      <td>2015-08-04</td>\n",
       "      <td>28.908458</td>\n",
       "      <td>10.0</td>\n",
       "    </tr>\n",
       "    <tr>\n",
       "      <th>9</th>\n",
       "      <td>35.721266</td>\n",
       "      <td>0.199694</td>\n",
       "      <td>178</td>\n",
       "      <td>82</td>\n",
       "      <td>-86.7943</td>\n",
       "      <td>33.566</td>\n",
       "      <td>2015-08-04</td>\n",
       "      <td>28.908458</td>\n",
       "      <td>10.0</td>\n",
       "    </tr>\n",
       "    <tr>\n",
       "      <th>10</th>\n",
       "      <td>39.292106</td>\n",
       "      <td>0.246206</td>\n",
       "      <td>74</td>\n",
       "      <td>2</td>\n",
       "      <td>-87.2909</td>\n",
       "      <td>31.991</td>\n",
       "      <td>2015-08-04</td>\n",
       "      <td>29.449333</td>\n",
       "      <td>14.0</td>\n",
       "    </tr>\n",
       "    <tr>\n",
       "      <th>11</th>\n",
       "      <td>39.292106</td>\n",
       "      <td>0.246206</td>\n",
       "      <td>74</td>\n",
       "      <td>2</td>\n",
       "      <td>-87.2909</td>\n",
       "      <td>31.991</td>\n",
       "      <td>2015-08-04</td>\n",
       "      <td>29.449333</td>\n",
       "      <td>14.0</td>\n",
       "    </tr>\n",
       "    <tr>\n",
       "      <th>12</th>\n",
       "      <td>41.224293</td>\n",
       "      <td>0.096833</td>\n",
       "      <td>197</td>\n",
       "      <td>59</td>\n",
       "      <td>-86.8096</td>\n",
       "      <td>33.520</td>\n",
       "      <td>2015-08-04</td>\n",
       "      <td>29.934083</td>\n",
       "      <td>19.0</td>\n",
       "    </tr>\n",
       "    <tr>\n",
       "      <th>13</th>\n",
       "      <td>41.224293</td>\n",
       "      <td>0.096833</td>\n",
       "      <td>197</td>\n",
       "      <td>59</td>\n",
       "      <td>-86.8096</td>\n",
       "      <td>33.520</td>\n",
       "      <td>2015-08-04</td>\n",
       "      <td>29.934083</td>\n",
       "      <td>19.0</td>\n",
       "    </tr>\n",
       "    <tr>\n",
       "      <th>14</th>\n",
       "      <td>34.561107</td>\n",
       "      <td>0.388495</td>\n",
       "      <td>211</td>\n",
       "      <td>13</td>\n",
       "      <td>-86.8201</td>\n",
       "      <td>33.486</td>\n",
       "      <td>2015-08-04</td>\n",
       "      <td>30.165042</td>\n",
       "      <td>21.0</td>\n",
       "    </tr>\n",
       "    <tr>\n",
       "      <th>15</th>\n",
       "      <td>34.561107</td>\n",
       "      <td>0.388495</td>\n",
       "      <td>211</td>\n",
       "      <td>13</td>\n",
       "      <td>-86.8201</td>\n",
       "      <td>33.486</td>\n",
       "      <td>2015-08-04</td>\n",
       "      <td>30.165042</td>\n",
       "      <td>21.0</td>\n",
       "    </tr>\n",
       "    <tr>\n",
       "      <th>16</th>\n",
       "      <td>37.879074</td>\n",
       "      <td>0.292336</td>\n",
       "      <td>175</td>\n",
       "      <td>38</td>\n",
       "      <td>-86.8454</td>\n",
       "      <td>33.510</td>\n",
       "      <td>2015-08-04</td>\n",
       "      <td>33.102333</td>\n",
       "      <td>27.0</td>\n",
       "    </tr>\n",
       "    <tr>\n",
       "      <th>17</th>\n",
       "      <td>37.879074</td>\n",
       "      <td>0.292336</td>\n",
       "      <td>175</td>\n",
       "      <td>38</td>\n",
       "      <td>-86.8454</td>\n",
       "      <td>33.510</td>\n",
       "      <td>2015-08-04</td>\n",
       "      <td>33.102333</td>\n",
       "      <td>27.0</td>\n",
       "    </tr>\n",
       "    <tr>\n",
       "      <th>18</th>\n",
       "      <td>33.600549</td>\n",
       "      <td>0.174008</td>\n",
       "      <td>34</td>\n",
       "      <td>0</td>\n",
       "      <td>-87.3919</td>\n",
       "      <td>32.116</td>\n",
       "      <td>2015-08-04</td>\n",
       "      <td>29.635667</td>\n",
       "      <td>32.0</td>\n",
       "    </tr>\n",
       "    <tr>\n",
       "      <th>19</th>\n",
       "      <td>33.600549</td>\n",
       "      <td>0.174008</td>\n",
       "      <td>34</td>\n",
       "      <td>0</td>\n",
       "      <td>-87.3919</td>\n",
       "      <td>32.116</td>\n",
       "      <td>2015-08-04</td>\n",
       "      <td>29.635667</td>\n",
       "      <td>32.0</td>\n",
       "    </tr>\n",
       "    <tr>\n",
       "      <th>20</th>\n",
       "      <td>35.720927</td>\n",
       "      <td>0.284911</td>\n",
       "      <td>185</td>\n",
       "      <td>41</td>\n",
       "      <td>-86.8172</td>\n",
       "      <td>33.560</td>\n",
       "      <td>2015-08-04</td>\n",
       "      <td>30.037708</td>\n",
       "      <td>39.0</td>\n",
       "    </tr>\n",
       "    <tr>\n",
       "      <th>21</th>\n",
       "      <td>33.098600</td>\n",
       "      <td>0.449978</td>\n",
       "      <td>75</td>\n",
       "      <td>0</td>\n",
       "      <td>-87.3187</td>\n",
       "      <td>32.025</td>\n",
       "      <td>2015-08-04</td>\n",
       "      <td>28.961625</td>\n",
       "      <td>42.0</td>\n",
       "    </tr>\n",
       "    <tr>\n",
       "      <th>22</th>\n",
       "      <td>36.151093</td>\n",
       "      <td>0.275834</td>\n",
       "      <td>203</td>\n",
       "      <td>82</td>\n",
       "      <td>-86.7702</td>\n",
       "      <td>33.524</td>\n",
       "      <td>2015-08-04</td>\n",
       "      <td>31.322750</td>\n",
       "      <td>46.0</td>\n",
       "    </tr>\n",
       "    <tr>\n",
       "      <th>23</th>\n",
       "      <td>41.630146</td>\n",
       "      <td>0.161345</td>\n",
       "      <td>203</td>\n",
       "      <td>49</td>\n",
       "      <td>-86.8019</td>\n",
       "      <td>33.502</td>\n",
       "      <td>2015-08-04</td>\n",
       "      <td>31.791583</td>\n",
       "      <td>4.0</td>\n",
       "    </tr>\n",
       "    <tr>\n",
       "      <th>24</th>\n",
       "      <td>39.220149</td>\n",
       "      <td>0.253852</td>\n",
       "      <td>177</td>\n",
       "      <td>48</td>\n",
       "      <td>-86.8410</td>\n",
       "      <td>33.509</td>\n",
       "      <td>2015-08-04</td>\n",
       "      <td>32.099458</td>\n",
       "      <td>9.0</td>\n",
       "    </tr>\n",
       "  </tbody>\n",
       "</table>\n",
       "</div>"
      ],
      "text/plain": [
       "          LST      NDVI  elevation  impervious       lon     lat        Date  \\\n",
       "8   35.721266  0.199694        178          82  -86.7943  33.566  2015-08-04   \n",
       "9   35.721266  0.199694        178          82  -86.7943  33.566  2015-08-04   \n",
       "10  39.292106  0.246206         74           2  -87.2909  31.991  2015-08-04   \n",
       "11  39.292106  0.246206         74           2  -87.2909  31.991  2015-08-04   \n",
       "12  41.224293  0.096833        197          59  -86.8096  33.520  2015-08-04   \n",
       "13  41.224293  0.096833        197          59  -86.8096  33.520  2015-08-04   \n",
       "14  34.561107  0.388495        211          13  -86.8201  33.486  2015-08-04   \n",
       "15  34.561107  0.388495        211          13  -86.8201  33.486  2015-08-04   \n",
       "16  37.879074  0.292336        175          38  -86.8454  33.510  2015-08-04   \n",
       "17  37.879074  0.292336        175          38  -86.8454  33.510  2015-08-04   \n",
       "18  33.600549  0.174008         34           0  -87.3919  32.116  2015-08-04   \n",
       "19  33.600549  0.174008         34           0  -87.3919  32.116  2015-08-04   \n",
       "20  35.720927  0.284911        185          41  -86.8172  33.560  2015-08-04   \n",
       "21  33.098600  0.449978         75           0  -87.3187  32.025  2015-08-04   \n",
       "22  36.151093  0.275834        203          82  -86.7702  33.524  2015-08-04   \n",
       "23  41.630146  0.161345        203          49  -86.8019  33.502  2015-08-04   \n",
       "24  39.220149  0.253852        177          48  -86.8410  33.509  2015-08-04   \n",
       "\n",
       "         temp    id  \n",
       "8   28.908458  10.0  \n",
       "9   28.908458  10.0  \n",
       "10  29.449333  14.0  \n",
       "11  29.449333  14.0  \n",
       "12  29.934083  19.0  \n",
       "13  29.934083  19.0  \n",
       "14  30.165042  21.0  \n",
       "15  30.165042  21.0  \n",
       "16  33.102333  27.0  \n",
       "17  33.102333  27.0  \n",
       "18  29.635667  32.0  \n",
       "19  29.635667  32.0  \n",
       "20  30.037708  39.0  \n",
       "21  28.961625  42.0  \n",
       "22  31.322750  46.0  \n",
       "23  31.791583   4.0  \n",
       "24  32.099458   9.0  "
      ]
     },
     "execution_count": 352,
     "metadata": {},
     "output_type": "execute_result"
    }
   ],
   "source": [
    "satobsdf"
   ]
  },
  {
   "cell_type": "code",
   "execution_count": 338,
   "metadata": {
    "collapsed": true
   },
   "outputs": [],
   "source": [
    "%matplotlib inline"
   ]
  },
  {
   "cell_type": "code",
   "execution_count": 355,
   "metadata": {
    "collapsed": false
   },
   "outputs": [
    {
     "data": {
      "text/plain": [
       "<matplotlib.text.Text at 0x11e3ee310>"
      ]
     },
     "execution_count": 355,
     "metadata": {},
     "output_type": "execute_result"
    },
    {
     "data": {
      "image/png": "[encoded data removed]",
      "text/plain": [
       "<matplotlib.figure.Figure at 0x11d879850>"
      ]
     },
     "metadata": {},
     "output_type": "display_data"
    }
   ],
   "source": [
    "plt.scatter(satobsdf['LST'], satobsdf['temp'])\n",
    "plt.xlabel('LST')\n",
    "plt.ylabel('Air Temp')"
   ]
  },
  {
   "cell_type": "code",
   "execution_count": 356,
   "metadata": {
    "collapsed": false
   },
   "outputs": [
    {
     "ename": "ImportError",
     "evalue": "No module named model_selection",
     "output_type": "error",
     "traceback": [
      "\u001b[0;31m---------------------------------------------------------------------------\u001b[0m",
      "\u001b[0;31mImportError\u001b[0m                               Traceback (most recent call last)",
      "\u001b[0;32m<ipython-input-356-0c88ae4381fc>\u001b[0m in \u001b[0;36m<module>\u001b[0;34m()\u001b[0m\n\u001b[0;32m----> 1\u001b[0;31m \u001b[0;32mfrom\u001b[0m \u001b[0msklearn\u001b[0m\u001b[0;34m.\u001b[0m\u001b[0mmodel_selection\u001b[0m \u001b[0;32mimport\u001b[0m \u001b[0mtrain_test_split\u001b[0m\u001b[0;34m\u001b[0m\u001b[0m\n\u001b[0m\u001b[1;32m      2\u001b[0m X_train, X_test, y_train, y_test = train_test_split(satobsdf.drop(['lon','lat','Date','temp', 'id'],axis=1), \n\u001b[1;32m      3\u001b[0m                                                     satobsdf['temp'], test_size=0.30, random_state=101)\n\u001b[1;32m      4\u001b[0m \u001b[0;31m#Do the Regression\u001b[0m\u001b[0;34m\u001b[0m\u001b[0;34m\u001b[0m\u001b[0m\n\u001b[1;32m      5\u001b[0m \u001b[0;31m#X_train = df.drop(['longitude','latitude','time','temp'], axis=1)\u001b[0m\u001b[0;34m\u001b[0m\u001b[0;34m\u001b[0m\u001b[0m\n",
      "\u001b[0;31mImportError\u001b[0m: No module named model_selection"
     ]
    }
   ],
   "source": [
    "from sklearn.model_selection import train_test_split\n",
    "X_train, X_test, y_train, y_test = train_test_split(satobsdf.drop(['lon','lat','Date','temp', 'id'],axis=1), \n",
    "                                                    satobsdf['temp'], test_size=0.30, random_state=101)\n",
    "#Do the Regression\n",
    "#X_train = df.drop(['longitude','latitude','time','temp'], axis=1)\n",
    "#y_train = df['temp']\n",
    "                  \n",
    "\n",
    "from sklearn.linear_model import LinearRegression\n",
    "lm = LinearRegression(normalize=True)\n",
    "\n",
    "lm.fit(X_train,y_train)\n",
    "\n",
    "predictions_train = lm.predict(X_train)\n",
    "predictions_test = lm.predict(X_test)"
   ]
  },
  {
   "cell_type": "code",
   "execution_count": 28,
   "metadata": {
    "collapsed": false
   },
   "outputs": [
    {
     "name": "stdout",
     "output_type": "stream",
     "text": [
      "('MAE:', 4.0422104944686046)\n",
      "('MSE:', 26.644173467160812)\n",
      "('RMSE:', 5.161799440811393)\n"
     ]
    },
    {
     "data": {
      "image/png": "[encoded data removed]",
      "text/plain": [
       "<matplotlib.figure.Figure at 0x7f953dd00690>"
      ]
     },
     "metadata": {},
     "output_type": "display_data"
    }
   ],
   "source": [
    "#Metrics for Training set\n",
    "plt.scatter(y_train,predictions_train)\n",
    "from sklearn import metrics\n",
    "print('MAE:', metrics.mean_absolute_error(y_train, predictions_train))\n",
    "print('MSE:', metrics.mean_squared_error(y_train, predictions_train))\n",
    "print('RMSE:', np.sqrt(metrics.mean_squared_error(y_train, predictions_train)))"
   ]
  },
  {
   "cell_type": "code",
   "execution_count": 29,
   "metadata": {
    "collapsed": false
   },
   "outputs": [
    {
     "name": "stdout",
     "output_type": "stream",
     "text": [
      "('MAE:', 5.0248910868420982)\n",
      "('MSE:', 36.786258510700165)\n",
      "('RMSE:', 6.0651676407746686)\n"
     ]
    },
    {
     "data": {
      "image/png": "[encoded data removed]",
      "text/plain": [
       "<matplotlib.figure.Figure at 0x7f95308aa210>"
      ]
     },
     "metadata": {},
     "output_type": "display_data"
    }
   ],
   "source": [
    "#Metrics for Test set\n",
    "plt.scatter(y_test,predictions_test)\n",
    "from sklearn import metrics\n",
    "print('MAE:', metrics.mean_absolute_error(y_test, predictions_test))\n",
    "print('MSE:', metrics.mean_squared_error(y_test, predictions_test))\n",
    "print('RMSE:', np.sqrt(metrics.mean_squared_error(y_test, predictions_test)))"
   ]
  },
  {
   "cell_type": "code",
   "execution_count": 31,
   "metadata": {
    "collapsed": false
   },
   "outputs": [
    {
     "name": "stdout",
     "output_type": "stream",
     "text": [
      "[  2.26853597e-01  -1.81088546e+01  -3.39203608e-03  -5.62309315e-02]\n",
      "26.6847981872\n"
     ]
    }
   ],
   "source": [
    "#with elevation\n",
    "print(lm.coef_)\n",
    "print(lm.intercept_)"
   ]
  },
  {
   "cell_type": "code",
   "execution_count": 32,
   "metadata": {
    "collapsed": false
   },
   "outputs": [
    {
     "data": {
      "text/html": [
       "<div>\n",
       "<table border=\"1\" class=\"dataframe\">\n",
       "  <thead>\n",
       "    <tr style=\"text-align: right;\">\n",
       "      <th></th>\n",
       "      <th>LST</th>\n",
       "      <th>NDVI</th>\n",
       "      <th>elevation</th>\n",
       "      <th>impervious</th>\n",
       "    </tr>\n",
       "  </thead>\n",
       "  <tbody>\n",
       "    <tr>\n",
       "      <th>339</th>\n",
       "      <td>19.210572</td>\n",
       "      <td>0.067237</td>\n",
       "      <td>71</td>\n",
       "      <td>26</td>\n",
       "    </tr>\n",
       "    <tr>\n",
       "      <th>434</th>\n",
       "      <td>3.087713</td>\n",
       "      <td>0.149250</td>\n",
       "      <td>1384</td>\n",
       "      <td>0</td>\n",
       "    </tr>\n",
       "    <tr>\n",
       "      <th>207</th>\n",
       "      <td>51.750492</td>\n",
       "      <td>0.067372</td>\n",
       "      <td>815</td>\n",
       "      <td>0</td>\n",
       "    </tr>\n",
       "    <tr>\n",
       "      <th>431</th>\n",
       "      <td>20.511744</td>\n",
       "      <td>0.268772</td>\n",
       "      <td>124</td>\n",
       "      <td>0</td>\n",
       "    </tr>\n",
       "    <tr>\n",
       "      <th>353</th>\n",
       "      <td>25.404771</td>\n",
       "      <td>0.179257</td>\n",
       "      <td>604</td>\n",
       "      <td>0</td>\n",
       "    </tr>\n",
       "  </tbody>\n",
       "</table>\n",
       "</div>"
      ],
      "text/plain": [
       "           LST      NDVI  elevation  impervious\n",
       "339  19.210572  0.067237         71          26\n",
       "434   3.087713  0.149250       1384           0\n",
       "207  51.750492  0.067372        815           0\n",
       "431  20.511744  0.268772        124           0\n",
       "353  25.404771  0.179257        604           0"
      ]
     },
     "execution_count": 32,
     "metadata": {},
     "output_type": "execute_result"
    }
   ],
   "source": [
    "X_train.head()"
   ]
  },
  {
   "cell_type": "code",
   "execution_count": null,
   "metadata": {
    "collapsed": true
   },
   "outputs": [],
   "source": []
  }
 ],
 "metadata": {
  "kernelspec": {
   "display_name": "Python 2",
   "language": "python",
   "name": "python2"
  },
  "language_info": {
   "codemirror_mode": {
    "name": "ipython",
    "version": 2
   },
   "file_extension": ".py",
   "mimetype": "text/x-python",
   "name": "python",
   "nbconvert_exporter": "python",
   "pygments_lexer": "ipython2",
   "version": "2.7.11"
  }
 },
 "nbformat": 4,
 "nbformat_minor": 0
}
